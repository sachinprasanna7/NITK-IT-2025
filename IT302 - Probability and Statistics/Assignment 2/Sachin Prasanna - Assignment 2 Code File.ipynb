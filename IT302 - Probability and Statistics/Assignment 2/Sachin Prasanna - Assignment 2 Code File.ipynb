{
  "nbformat": 4,
  "nbformat_minor": 0,
  "metadata": {
    "colab": {
      "provenance": []
    },
    "kernelspec": {
      "name": "python3",
      "display_name": "Python 3"
    },
    "language_info": {
      "name": "python"
    }
  },
  "cells": [
    {
      "cell_type": "markdown",
      "source": [
        "**Assignment-2: Advanced Random Variables Concepts**"
      ],
      "metadata": {
        "id": "lQUP92IcS28c"
      }
    },
    {
      "cell_type": "markdown",
      "source": [
        "**Answer 1:**"
      ],
      "metadata": {
        "id": "ke5YYc8_TDjh"
      }
    },
    {
      "cell_type": "code",
      "execution_count": 34,
      "metadata": {
        "colab": {
          "base_uri": "https://localhost:8080/"
        },
        "id": "sYe_Obg3SuJW",
        "outputId": "12270a4a-6b30-4489-f4f6-85a14f3a57aa"
      },
      "outputs": [
        {
          "output_type": "stream",
          "name": "stdout",
          "text": [
            "a)\n",
            "\n",
            "Marginal Probability Distribution of X:\n",
            "\n",
            "+------+------+------+------+\n",
            "|  X   |  1   |  2   |  3   |\n",
            "+------+------+------+------+\n",
            "| P(X) | 0.40 | 0.50 | 0.10 |\n",
            "+------+------+------+------+\n",
            "\n",
            "Marginal Probability Distribution of Y:\n",
            "\n",
            "+------+------+------+------+\n",
            "|  Y   |  1   |  2   |  3   |\n",
            "+------+------+------+------+\n",
            "| P(Y) | 0.30 | 0.60 | 0.10 |\n",
            "+------+------+------+------+\n",
            "\n",
            "\n",
            "b) P(X=2|Y=1) = 0.667\n",
            "\n",
            "\n",
            "c) X and Y are not independent\n"
          ]
        }
      ],
      "source": [
        "import numpy as np\n",
        "from prettytable import PrettyTable\n",
        "\n",
        "# reading the pdf values in a numpy array\n",
        "joint_probs = np.array([[0.1, 0.2, 0.1],\n",
        "                        [0.2, 0.3, 0.0],\n",
        "                        [0.0, 0.1, 0.0]])\n",
        "\n",
        "# defining the values of X and Y as given in the question\n",
        "values_X = [1, 2, 3]\n",
        "values_Y = [1, 2, 3]\n",
        "\n",
        "# Calculating the marginal probability distribution of X\n",
        "marginal_X = np.sum(joint_probs, axis=1)\n",
        "\n",
        "# Storing the values of x and p(x) in a dictionary\n",
        "dict_marginal_X = {x: p for x, p in zip(values_X, marginal_X)}\n",
        "\n",
        "# Calculating the marginal probability distribution of Y\n",
        "marginal_Y = np.sum(joint_probs, axis=0)\n",
        "\n",
        "# Storing the values of y and p(y) in a dictionary\n",
        "dict_marginal_Y = {y: p for y, p in zip(values_Y, marginal_Y)}\n",
        "\n",
        "# Printing the values in the form of a table\n",
        "tableX = PrettyTable()\n",
        "\n",
        "print(\"a)\\n\")\n",
        "print(\"Marginal Probability Distribution of X:\\n\")\n",
        "\n",
        "tableX.field_names = [\"X\"] + list(map(str, values_X))\n",
        "tableX.add_row([\"P(X)\"] + [f'{p:.2f}' for p in marginal_X])\n",
        "\n",
        "print(tableX)\n",
        "\n",
        "tableY = PrettyTable()\n",
        "print(\"\\nMarginal Probability Distribution of Y:\\n\")\n",
        "\n",
        "tableY.field_names = [\"Y\"] + list(map(str, values_Y))\n",
        "tableY.add_row([\"P(Y)\"] + [f'{p:.2f}' for p in marginal_Y])\n",
        "\n",
        "print(tableY)\n",
        "\n",
        "# Calculating conditional probability of P(X = 2 | Y = 1)\n",
        "\n",
        "print(\"\\n\")\n",
        "p_X2_given_Y1 = joint_probs[1][0]/dict_marginal_Y[1]\n",
        "\n",
        "print(f\"b) P(X=2|Y=1) = {p_X2_given_Y1:.3f}\")\n",
        "\n",
        "# Checking if X and Y are independant random variables through a simple for loop\n",
        "print(\"\\n\")\n",
        "isIndependent = True\n",
        "for i in range(len(values_X)):\n",
        "    for j in range(len(values_Y)):\n",
        "        if marginal_X[i] * marginal_Y[j] != joint_probs[i][j]:\n",
        "            isIndependent = False\n",
        "            break\n",
        "\n",
        "\n",
        "if isIndependent:\n",
        "    print(\"c) X and Y are independent\")\n",
        "else:\n",
        "    print(\"c) X and Y are not independent\")\n"
      ]
    },
    {
      "cell_type": "markdown",
      "source": [
        "**Answer 2:**\n"
      ],
      "metadata": {
        "id": "DbSJtKiUYyHN"
      }
    },
    {
      "cell_type": "code",
      "source": [
        "import matplotlib.pyplot as plt\n",
        "from scipy.integrate import quad\n",
        "import sympy as sp\n",
        "\n",
        "# Defining the PDF function, given in the question\n",
        "def pdf(x):\n",
        "    if 0 <= x <= 1:\n",
        "        return 3 * x**2\n",
        "    else:\n",
        "        return 0\n",
        "\n",
        "# Defining the CDF function, which was found through integration by manual solving\n",
        "def cdf(x):\n",
        "  if(0 <= x <= 1):\n",
        "    return x**3\n",
        "  elif (x < 0):\n",
        "    return 0\n",
        "  else:\n",
        "    return 1\n",
        "\n",
        "print(\"a) The cumulative distribution function (CDF) of X is:\\n\")\n",
        "\n",
        "# printing the cdf\n",
        "x = sp.symbols('x')\n",
        "cdf_expr = sp.Piecewise((0, x < 0), (x**3, x <= 1), (1, True))\n",
        "sp.pretty_print(sp.Eq(sp.Function('F')(x), cdf_expr), use_unicode=True)\n",
        "\n",
        "print(\"\\n\")\n",
        "\n",
        "# Calculating mean and variance using integration using scipy library\n",
        "mean, garberror = quad(lambda x: x * pdf(x), 0, 1)\n",
        "variance, garberror = quad(lambda x: (x - mean)**2 * pdf(x), 0, 1)\n",
        "\n",
        "# Generating x values for plotting\n",
        "x_values = np.linspace(-5, 5, 1000)\n",
        "pdf_values = [pdf(x) for x in x_values]\n",
        "cdf_values = [cdf(x) for x in x_values]\n",
        "\n",
        "# Plotting the PDF\n",
        "plt.figure(figsize=(10, 5))\n",
        "plt.subplot(1, 2, 1)\n",
        "plt.plot(x_values, pdf_values, label='PDF')\n",
        "plt.xlabel('x')\n",
        "plt.ylabel('f(x)')\n",
        "plt.title('Probability Density Function (PDF)')\n",
        "plt.legend()\n",
        "\n",
        "# Plotting the CDF\n",
        "plt.subplot(1, 2, 2)\n",
        "plt.plot(x_values, cdf_values, label='CDF', color='orange')\n",
        "plt.xlabel('x')\n",
        "plt.ylabel('F(x)')\n",
        "plt.title('Cumulative Distribution Function (CDF)')\n",
        "plt.legend()\n",
        "\n",
        "plt.tight_layout()\n",
        "plt.show()\n",
        "\n",
        "# Printing mean and variance\n",
        "print(\"\\n\\n\")\n",
        "print(f\"b) Mean of X: {mean:.3f}\")\n",
        "print(f\"\\nc) Variance of X: {variance:.3f}\")"
      ],
      "metadata": {
        "colab": {
          "base_uri": "https://localhost:8080/",
          "height": 802
        },
        "id": "DSbEg1c8Tifw",
        "outputId": "2575ff93-5408-431b-ed9a-89edbceba5fe"
      },
      "execution_count": 35,
      "outputs": [
        {
          "output_type": "stream",
          "name": "stdout",
          "text": [
            "a) The cumulative distribution function (CDF) of X is:\n",
            "\n",
            "       ⎧0   for x < 0\n",
            "       ⎪             \n",
            "       ⎪ 3           \n",
            "F(x) = ⎨x   for x ≤ 1\n",
            "       ⎪             \n",
            "       ⎪1   otherwise\n",
            "       ⎩             \n",
            "\n",
            "\n"
          ]
        },
        {
          "output_type": "display_data",
          "data": {
            "text/plain": [
              "<Figure size 1000x500 with 2 Axes>"
            ],
            "image/png": "[encoded data removed]"
          },
          "metadata": {}
        },
        {
          "output_type": "stream",
          "name": "stdout",
          "text": [
            "\n",
            "\n",
            "\n",
            "b) Mean of X: 0.750\n",
            "\n",
            "c) Variance of X: 0.038\n"
          ]
        }
      ]
    },
    {
      "cell_type": "markdown",
      "source": [
        "**Answer 3:**\n"
      ],
      "metadata": {
        "id": "wFBDHeN2gVHL"
      }
    },
    {
      "cell_type": "code",
      "source": [
        "# Defining the PDF of X (uniform on [0, 1])\n",
        "def pdf_X(x):\n",
        "    if 0 <= x <= 1:\n",
        "        return 1\n",
        "    else:\n",
        "        return 0\n",
        "\n",
        "# Defining the PDF of Y through transformations which was done manually\n",
        "def pdf_Y(y):\n",
        "    if 0 < y <= 1:\n",
        "        return 1 / (2 * np.sqrt(y))\n",
        "    else:\n",
        "        return 0\n",
        "\n",
        "print(\"a) The probability density function (PDF) of Y is:\\n\")\n",
        "\n",
        "# Printing the calculated pdf\n",
        "y = sp.symbols('y')\n",
        "cdf_expr = sp.Piecewise((0, y <= 0), (1 / (2 * sp.sqrt(y)), y <= 1), (1, True))\n",
        "sp.pretty_print(sp.Eq(sp.Function('F')(y), cdf_expr), use_unicode=True)\n",
        "\n",
        "print(\"\\n\")\n",
        "\n",
        "# Calculating mean and variance using integration using scipy library\n",
        "mean, garberror = quad(lambda x: x * pdf_Y(x), 0, 1)\n",
        "variance, garberror = quad(lambda x: (x - mean)**2 * pdf_Y(x), 0, 1)\n",
        "\n",
        "\n",
        "# Generating x values for plotting\n",
        "x_values = np.linspace(-5, 5, 1000)\n",
        "pdfX_values = [pdf_X(x) for x in x_values]\n",
        "pdfY_values = [pdf_Y(x) for x in x_values]\n",
        "\n",
        "# Plotting the PDF\n",
        "plt.figure(figsize=(10, 5))\n",
        "plt.subplot(1, 2, 1)\n",
        "plt.plot(x_values, pdfX_values, label='PDF')\n",
        "plt.xlabel('x')\n",
        "plt.ylabel('f(x)')\n",
        "plt.title('Probability Density Function (PDF) of X')\n",
        "plt.legend()\n",
        "\n",
        "# Plotting the CDF\n",
        "plt.subplot(1, 2, 2)\n",
        "plt.plot(x_values, pdfY_values, label='PDF', color='orange')\n",
        "plt.xlabel('y')\n",
        "plt.ylabel('F(Y)')\n",
        "plt.title('Probability Distribution Function (PDF) of Y')\n",
        "plt.legend()\n",
        "\n",
        "plt.tight_layout()\n",
        "plt.show()\n",
        "\n",
        "print(\"\\n\\n\")\n",
        "print(f\"b) Mean of Y: {mean:.3f}\")\n",
        "print(f\"\\nc) Variance of Y: {variance:.3f}\")\n"
      ],
      "metadata": {
        "colab": {
          "base_uri": "https://localhost:8080/",
          "height": 802
        },
        "id": "sglZ95lrZXGL",
        "outputId": "c0917cc6-bc53-4ca4-baf8-02f8e367d00e"
      },
      "execution_count": 36,
      "outputs": [
        {
          "output_type": "stream",
          "name": "stdout",
          "text": [
            "a) The probability density function (PDF) of Y is:\n",
            "\n",
            "       ⎧ 0    for y ≤ 0\n",
            "       ⎪               \n",
            "       ⎪ 1             \n",
            "F(y) = ⎨────  for y ≤ 1\n",
            "       ⎪2⋅√y           \n",
            "       ⎪               \n",
            "       ⎩ 1    otherwise\n",
            "\n",
            "\n"
          ]
        },
        {
          "output_type": "display_data",
          "data": {
            "text/plain": [
              "<Figure size 1000x500 with 2 Axes>"
            ],
            "image/png": "[encoded data removed]"
          },
          "metadata": {}
        },
        {
          "output_type": "stream",
          "name": "stdout",
          "text": [
            "\n",
            "\n",
            "\n",
            "b) Mean of Y: 0.333\n",
            "\n",
            "c) Variance of Y: 0.089\n"
          ]
        }
      ]
    },
    {
      "cell_type": "markdown",
      "source": [
        "**Answer 4:**"
      ],
      "metadata": {
        "id": "3fPP38V5gZeR"
      }
    },
    {
      "cell_type": "code",
      "source": [
        "# Defining the joint probability distribution\n",
        "joint_prob = np.array([\n",
        "    [0.2, 0.1, 0.1],\n",
        "    [0.1, 0.2, 0.1],\n",
        "    [0.1, 0.1, 0.0]\n",
        "])\n",
        "\n",
        "# Defining the corresponding values for X and Y\n",
        "x_values = np.array([1, 2, 3])\n",
        "y_values = np.array([1, 2, 3])\n",
        "\n",
        "# Calculating E(X)\n",
        "E_X = np.sum(x_values * np.sum(joint_prob, axis=1))\n",
        "\n",
        "# Calculating E(Y)\n",
        "E_Y = np.sum(y_values * np.sum(joint_prob, axis=0))\n",
        "\n",
        "# Calculating E(XY)\n",
        "E_XY = np.sum(x_values[:, np.newaxis] * y_values * joint_prob)\n",
        "\n",
        "# Calculating E(X^2)\n",
        "E_X2 = np.sum(x_values ** 2 * np.sum(joint_prob, axis=1))\n",
        "\n",
        "# Calculating E(Y^2)\n",
        "E_Y2 = np.sum(y_values ** 2 * np.sum(joint_prob, axis=0))\n",
        "\n",
        "# Calculating the covariance using the formula\n",
        "covariance = E_XY - E_X * E_Y\n",
        "\n",
        "# Calculating the standard deviations of X and Y\n",
        "std_dev_X = np.sqrt(E_X2 - (E_X ** 2))\n",
        "std_dev_Y  = np.sqrt(E_Y2 - (E_Y ** 2))\n",
        "\n",
        "# Calculating the correlation coefficient using the formulal\n",
        "correlation_coefficient = covariance / (std_dev_X * std_dev_Y)\n",
        "\n",
        "# Determining whether X and Y are positively or negatively correlated\n",
        "correlation_type = \"positvely\"\n",
        "\n",
        "if correlation_coefficient < 0:\n",
        "  correlation_type = \"negatively\"\n",
        "\n",
        "elif correlation_coefficient == 0:\n",
        "  correlation_type = \"uncorrelated\"\n",
        "\n",
        "# Displaying the results\n",
        "print(f\"a) Covariance between X and Y: {covariance:.3f}\")\n",
        "print(\"\\nb) X and Y are\", correlation_type, \"correlated\")\n",
        "print(f\"\\nc) Correlation Coefficient between X and Y: {correlation_coefficient:.3f}\")"
      ],
      "metadata": {
        "colab": {
          "base_uri": "https://localhost:8080/"
        },
        "id": "i5paPaeMdLCz",
        "outputId": "66dc11cd-9847-47cf-9b3e-cee46fe98068"
      },
      "execution_count": 37,
      "outputs": [
        {
          "output_type": "stream",
          "name": "stdout",
          "text": [
            "a) Covariance between X and Y: -0.040\n",
            "\n",
            "b) X and Y are negatively correlated\n",
            "\n",
            "c) Correlation Coefficient between X and Y: -0.071\n"
          ]
        }
      ]
    },
    {
      "cell_type": "markdown",
      "source": [
        "**Answer 5:**"
      ],
      "metadata": {
        "id": "hyJ_a0gOdFZb"
      }
    },
    {
      "cell_type": "code",
      "source": [
        "# Storing the given data in a numpy array\n",
        "\n",
        "stock_data = np.array([\n",
        "    [-2, 0.1],\n",
        "    [-1, 0.2],\n",
        "    [0, 0.3],\n",
        "    [1, 0.25],\n",
        "    [2, 0.15]\n",
        "])\n",
        "\n",
        "# Accessing individual values\n",
        "x_values = stock_data[:, 0]\n",
        "probabilities = stock_data[:, 1]\n",
        "\n",
        "# Calculating the mean\n",
        "mean = np.sum(x_values * probabilities)\n",
        "\n",
        "# Calculating the variance\n",
        "variance = np.sum((x_values - mean)**2 * probabilities)\n",
        "\n",
        "# Calculating the standard deviation\n",
        "std_deviation = np.sqrt(variance)\n",
        "\n",
        "# Calculating P(X >= 1)\n",
        "probability_1 = np.sum(probabilities[x_values >= 1])\n",
        "\n",
        "# Calculating P(-1 <= X <= 1)\n",
        "probability_2 = np.sum(probabilities[(x_values >= -1) & (x_values <= 1)])\n",
        "\n",
        "\n",
        "print(f\"a) Mean: {mean:.3f}\")\n",
        "print(f\"\\nb) Variance: {variance:.3f}\")\n",
        "print(f\"\\nc) Standard Deviation: {std_deviation:.3f}\")\n",
        "print(f\"\\nd) P(X >= 1): {probability_1}\")\n",
        "print(f\"\\ne) P(-1 <= X <= 1) = {probability_2}\")"
      ],
      "metadata": {
        "colab": {
          "base_uri": "https://localhost:8080/"
        },
        "id": "0w4SVzRveZGz",
        "outputId": "2a6c54d6-0e3b-4b4c-b495-7eb5288798ce"
      },
      "execution_count": 38,
      "outputs": [
        {
          "output_type": "stream",
          "name": "stdout",
          "text": [
            "a) Mean: 0.150\n",
            "\n",
            "b) Variance: 1.428\n",
            "\n",
            "c) Standard Deviation: 1.195\n",
            "\n",
            "d) P(X >= 1): 0.4\n",
            "\n",
            "e) P(-1 <= X <= 1) = 0.75\n"
          ]
        }
      ]
    },
    {
      "cell_type": "code",
      "source": [],
      "metadata": {
        "id": "DpgKKhgQqLSE"
      },
      "execution_count": 38,
      "outputs": []
    }
  ]
}