{
  "nbformat": 4,
  "nbformat_minor": 0,
  "metadata": {
    "colab": {
      "provenance": []
    },
    "kernelspec": {
      "name": "python3",
      "display_name": "Python 3"
    },
    "language_info": {
      "name": "python"
    }
  },
  "cells": [
    {
      "cell_type": "markdown",
      "source": [
        "**IT302: PROBABILITY AND STATISTICS**\n",
        "\n",
        "\n",
        "**ASSIGNMENT 3**"
      ],
      "metadata": {
        "id": "1J9rlYfQISlP"
      }
    },
    {
      "cell_type": "code",
      "execution_count": 49,
      "metadata": {
        "id": "XGQ3QtQF4xIZ"
      },
      "outputs": [],
      "source": [
        "import numpy as np\n",
        "import random\n",
        "\n",
        "# Generating a normal distribution of test scores for 1000 employees with mean 60 and standard deviation of 15\n",
        "test_scores = np.random.normal(60, 15, 1000)\n",
        "test_scores = np.clip(test_scores, 0, 100)\n",
        "\n",
        "# Creating a dictionary to represent the different salary brackets and the number of employees to allocate\n",
        "salaries = {\n",
        "    \"3LPM\": 50,\n",
        "    \"2LPM\": 150,\n",
        "    \"1LPM\": 200,\n",
        "    \"75KPM\": 250,\n",
        "    \"40KPM\": 350\n",
        "}\n",
        "\n",
        "# Allocating employees to salary brackets based on the specified number of employees\n",
        "allocated_employees = []\n",
        "\n",
        "for salary, num_employees in salaries.items():\n",
        "    for _ in range(num_employees):\n",
        "        allocated_employees.append((salary, random.choice(test_scores)))\n",
        "\n",
        "# Print the allocated employees with their corresponding salaries and test scores\n",
        "#for i, (salary, test_score) in enumerate(allocated_employees, start=1):\n",
        "    #print(f\"Employee {i}: Test Score = {test_score:.2f}, Salary = {salary}\")\n"
      ]
    },
    {
      "cell_type": "markdown",
      "source": [
        "Question 1: Find the probability of employees that get increment of different percentages (consider test\n",
        "score fallows the normal distribution)\n",
        "\n",
        "Answer:"
      ],
      "metadata": {
        "id": "oGSyz_diJTmc"
      }
    },
    {
      "cell_type": "code",
      "source": [
        "# Defining the salary brackets as given in question\n",
        "salary_brackets = {\n",
        "    \"70%\": (90, 100),\n",
        "    \"60%\": (80, 90),\n",
        "    \"50%\": (70, 80),\n",
        "    \"30%\": (60, 70),\n",
        "    \"25%\": (50, 60),\n",
        "    \"20%\": (40, 50),\n",
        "    \"10%\": (30, 40),\n",
        "    \"0%\": (0, 30),\n",
        "\n",
        "}\n",
        "\n",
        "# Initializing a dictionary\n",
        "employees_within_bracket = {salary: 0 for salary in salary_brackets}\n",
        "\n",
        "# Counting the number of employees within each salary bracket based on their test scores\n",
        "for _, test_score in allocated_employees:\n",
        "    for salary, (min_score, max_score) in salary_brackets.items():\n",
        "        if min_score <= test_score <= max_score:\n",
        "            employees_within_bracket[salary] += 1\n",
        "\n",
        "# Calculating the total number of allocated employees\n",
        "total_allocated_employees = len(allocated_employees)\n",
        "\n",
        "# Calculaing the probabilities of employees receiving different increments\n",
        "probability = {salary: count / 1000 for salary, count in employees_within_bracket.items()}\n",
        "\n",
        "# Printing the answer\n",
        "for salary, prob in probability.items():\n",
        "    print(f\"Probability of receiving {salary} increment: {prob:.2%}\")"
      ],
      "metadata": {
        "colab": {
          "base_uri": "https://localhost:8080/"
        },
        "id": "SPZaZ9sU5uPH",
        "outputId": "25d90f2c-5c8a-41c1-90ad-ca78d310493f"
      },
      "execution_count": 50,
      "outputs": [
        {
          "output_type": "stream",
          "name": "stdout",
          "text": [
            "Probability of receiving 70% increment: 1.90%\n",
            "Probability of receiving 60% increment: 7.20%\n",
            "Probability of receiving 50% increment: 17.10%\n",
            "Probability of receiving 30% increment: 24.20%\n",
            "Probability of receiving 25% increment: 24.60%\n",
            "Probability of receiving 20% increment: 14.80%\n",
            "Probability of receiving 10% increment: 7.40%\n",
            "Probability of receiving 0% increment: 2.80%\n"
          ]
        }
      ]
    },
    {
      "cell_type": "markdown",
      "source": [
        "Question 2: What is the total increase in the total salaries of employees\n",
        "\n",
        "\n",
        "Answer:"
      ],
      "metadata": {
        "id": "O38t-d82JcLc"
      }
    },
    {
      "cell_type": "code",
      "source": [
        "# Defining the salary increment percentages\n",
        "increment_percentages = {\n",
        "    \"70%\": 0.7,\n",
        "    \"60%\": 0.6,\n",
        "    \"50%\": 0.5,\n",
        "    \"30%\": 0.3,\n",
        "    \"25%\": 0.25,\n",
        "    \"20%\": 0.2,\n",
        "    \"10%\": 0.1,\n",
        "    \"0%\": 0\n",
        "}\n",
        "\n",
        "# Initializing a variable to keep track of the total increase\n",
        "total_salary_increase = 0\n",
        "\n",
        "# Iterating through allocated employees and calculating the salary increase\n",
        "for salary, test_score in allocated_employees:\n",
        "    increment_percentage = None\n",
        "    for range_name, (min_score, max_score) in salary_brackets.items():\n",
        "        if min_score <= test_score <= max_score:\n",
        "            increment_percentage = increment_percentages[range_name]\n",
        "            break\n",
        "\n",
        "    if increment_percentage is not None:\n",
        "        # Calculating the new salary\n",
        "        current_salary = int(salary[:-3])\n",
        "        new_salary = current_salary * (1 + increment_percentage)\n",
        "        total_salary_increase += new_salary - current_salary\n",
        "\n",
        "        # print(f\"Employee with {salary} and test score {test_score} gets a {range_name} increment.\")\n",
        "        # print(f\"New salary: {new_salary:.2f}LPM\\n\")\n",
        "\n",
        "# Printing the final answer\n",
        "print(f\"Total increase in total salaries: {total_salary_increase:.1f} Lakhs\")"
      ],
      "metadata": {
        "colab": {
          "base_uri": "https://localhost:8080/"
        },
        "id": "UHh24cF1-sK0",
        "outputId": "47847db6-066e-4c00-ab6b-d0f4e96c38ae"
      },
      "execution_count": 51,
      "outputs": [
        {
          "output_type": "stream",
          "name": "stdout",
          "text": [
            "Total increase in total salaries: 10402.0 Lakhs\n"
          ]
        }
      ]
    },
    {
      "cell_type": "markdown",
      "source": [
        "Question 3: What is the probability of employees getting (a) a promotion (b) Promotion and minimum of\n",
        "25% hike (c) Only hike (d) Neither hike nor promotion?\n",
        "\n",
        "\n",
        "Answer:"
      ],
      "metadata": {
        "id": "JxZ8S0p0JiIF"
      }
    },
    {
      "cell_type": "code",
      "source": [
        "# Defining the required probabilities of each event, and getting its value from previously stored dictionary\n",
        "prob_promotion = probability[\"70%\"] + probability[\"60%\"] + probability[\"50%\"] + probability[\"30%\"]\n",
        "prob_promotion_25_hike = probability[\"70%\"] + probability[\"60%\"] + probability[\"50%\"] + probability[\"30%\"]\n",
        "prob_only_hike = probability[\"25%\"] + probability[\"20%\"] + probability[\"10%\"]\n",
        "prob_neither_hike_nor_promotion = probability[\"0%\"]\n",
        "\n",
        "# Printing the probabilities\n",
        "print(f\"Probability of employees getting a promotion: {prob_promotion}\")\n",
        "print(f\"Probability of employees getting promotion and minimum 25% hike: {prob_promotion_25_hike}\")\n",
        "print(f\"Probability of employees getting only a hike: {prob_only_hike}\")\n",
        "print(f\"Probability of employees getting neither hike nor promotion: {prob_neither_hike_nor_promotion}\")"
      ],
      "metadata": {
        "colab": {
          "base_uri": "https://localhost:8080/"
        },
        "id": "-5lHR91WB0Ks",
        "outputId": "a5b6668a-4755-498a-8b9b-b8a1b4847df9"
      },
      "execution_count": 52,
      "outputs": [
        {
          "output_type": "stream",
          "name": "stdout",
          "text": [
            "Probability of employees getting a promotion: 0.504\n",
            "Probability of employees getting promotion and minimum 25% hike: 0.504\n",
            "Probability of employees getting only a hike: 0.468\n",
            "Probability of employees getting neither hike nor promotion: 0.028\n"
          ]
        }
      ]
    },
    {
      "cell_type": "code",
      "source": [],
      "metadata": {
        "id": "rfJJX0LhEPS7"
      },
      "execution_count": null,
      "outputs": []
    }
  ]
}