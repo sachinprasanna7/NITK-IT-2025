{
 "cells": [
  {
   "cell_type": "code",
   "execution_count": 1,
   "id": "07cc4370",
   "metadata": {},
   "outputs": [],
   "source": [
    "#Question 1\n",
    "#x(n) = [2,1,3,2,1], h(n) = [4,3,2,1]"
   ]
  },
  {
   "cell_type": "code",
   "execution_count": 1,
   "id": "b559ac03",
   "metadata": {},
   "outputs": [
    {
     "name": "stdout",
     "output_type": "stream",
     "text": [
      "Array1:->\n",
      " [2 1 3 2 1]\n",
      "\n",
      "Array2:->\n",
      " [4 3 2 1]\n",
      "\n",
      "Result:->\n",
      " [ 8 10 19 21 17 10  4  1]\n"
     ]
    },
    {
     "data": {
      "image/png": "[encoded data removed]",
      "text/plain": [
       "<Figure size 432x288 with 1 Axes>"
      ]
     },
     "metadata": {
      "needs_background": "light"
     },
     "output_type": "display_data"
    }
   ],
   "source": [
    "import numpy as np\n",
    "\n",
    "import matplotlib.pyplot as plt\n",
    "  \n",
    "# Creating two numpy One-Dimensional\n",
    "# array using the array() method\n",
    "arr1 = np.array([2, 1, 3, 2, 1])\n",
    "arr2 = np.array([4, 3, 2, 1])\n",
    "  \n",
    "# Display the arrays\n",
    "print(\"Array1:->\\n\", arr1)\n",
    "print(\"\\nArray2:->\\n\", arr2)\n",
    "\n",
    "  \n",
    "# To return the discrete linear convolution\n",
    "# of two one-dimensional sequences,\n",
    "# we use the numpy.convolve() method in Python Numpy\n",
    "print(\"\\nResult:->\\n\", np.convolve(arr1, arr2))\n",
    "\n",
    "\n",
    "arr_final = np.convolve(arr1,arr2)\n",
    "\n",
    "size = [1, 2, 3, 4, 5, 6, 7,8]\n",
    "  \n",
    "# plotting a bar chart\n",
    "plt.bar(size, arr_final ,width = 0.1)\n",
    "  \n",
    "# naming the x-axis\n",
    "plt.xlabel('x - axis')\n",
    "# naming the y-axis\n",
    "plt.ylabel('y - axis')\n",
    "# plot title\n",
    "plt.title('Linear Convolution')\n",
    "  \n",
    "# function to show the plot\n",
    "plt.show()"
   ]
  },
  {
   "cell_type": "code",
   "execution_count": 3,
   "id": "3576d1b6",
   "metadata": {},
   "outputs": [],
   "source": [
    "#Question 2\n",
    "#x(n) = [1,1,1], h(n) = [1,0.5,0.25]"
   ]
  },
  {
   "cell_type": "code",
   "execution_count": 2,
   "id": "ebde4e67",
   "metadata": {},
   "outputs": [
    {
     "name": "stdout",
     "output_type": "stream",
     "text": [
      "Array1:->\n",
      " [1 1 1]\n",
      "\n",
      "Array2:->\n",
      " [1.   0.5  0.25]\n",
      "\n",
      "Result:->\n",
      " [1.   1.5  1.75 0.75 0.25]\n"
     ]
    },
    {
     "data": {
      "image/png": "[encoded data removed]",
      "text/plain": [
       "<Figure size 432x288 with 1 Axes>"
      ]
     },
     "metadata": {
      "needs_background": "light"
     },
     "output_type": "display_data"
    }
   ],
   "source": [
    "import numpy as np\n",
    "  \n",
    "# Creating two numpy One-Dimensional\n",
    "# array using the array() method\n",
    "arr1 = np.array([1,1,1])\n",
    "arr2 = np.array([1,0.5,0.25])\n",
    "  \n",
    "# Display the arrays\n",
    "print(\"Array1:->\\n\", arr1)\n",
    "print(\"\\nArray2:->\\n\", arr2)\n",
    "\n",
    "  \n",
    "# To return the discrete linear convolution\n",
    "# of two one-dimensional sequences,\n",
    "# we use the numpy.convolve() method in Python Numpy\n",
    "print(\"\\nResult:->\\n\", np.convolve(arr1, arr2))\n",
    "\n",
    "arr_final = np.convolve(arr1,arr2)\n",
    "\n",
    "size = [1, 2, 3, 4, 5]\n",
    "  \n",
    "\n",
    "# plotting a bar chart\n",
    "plt.bar(size, arr_final ,width = 0.1)\n",
    "  \n",
    "# naming the x-axis\n",
    "plt.xlabel('x - axis')\n",
    "# naming the y-axis\n",
    "plt.ylabel('y - axis')\n",
    "# plot title\n",
    "plt.title('Linear Convolution')\n",
    "  \n",
    "# function to show the plot\n",
    "plt.show()"
   ]
  },
  {
   "cell_type": "code",
   "execution_count": 5,
   "id": "f1c27460",
   "metadata": {},
   "outputs": [],
   "source": [
    "#Question 3\n",
    "#x(n) = [1,0,1,0,1,1,1,1], h(n) = [1,1,1]"
   ]
  },
  {
   "cell_type": "code",
   "execution_count": 3,
   "id": "7e9a8432",
   "metadata": {},
   "outputs": [
    {
     "name": "stdout",
     "output_type": "stream",
     "text": [
      "Array1:->\n",
      " [1 0 1 0 1 1 1 1]\n",
      "\n",
      "Array2:->\n",
      " [1 1 1]\n",
      "\n",
      "Result:->\n",
      " [1 1 2 1 2 2 3 3 2 1]\n"
     ]
    },
    {
     "data": {
      "image/png": "[encoded data removed]",
      "text/plain": [
       "<Figure size 432x288 with 1 Axes>"
      ]
     },
     "metadata": {
      "needs_background": "light"
     },
     "output_type": "display_data"
    }
   ],
   "source": [
    "import numpy as np\n",
    "  \n",
    "# Creating two numpy One-Dimensional\n",
    "# array using the array() method\n",
    "arr1 = np.array([1,0,1,0,1,1,1,1])\n",
    "arr2 = np.array([1,1,1])\n",
    "  \n",
    "# Display the arrays\n",
    "print(\"Array1:->\\n\", arr1)\n",
    "print(\"\\nArray2:->\\n\", arr2)\n",
    "  \n",
    "\n",
    "# To return the discrete linear convolution\n",
    "# of two one-dimensional sequences,\n",
    "# we use the numpy.convolve() method in Python Numpy\n",
    "print(\"\\nResult:->\\n\", np.convolve(arr1, arr2))\n",
    "\n",
    "arr_final = np.convolve(arr1,arr2)\n",
    "\n",
    "size = [1, 2, 3, 4, 5, 6, 7, 8, 9, 10]\n",
    "  \n",
    "\n",
    "  \n",
    "\n",
    "  \n",
    "# plotting a bar chart\n",
    "plt.bar(size, arr_final ,width = 0.1)\n",
    "  \n",
    "# naming the x-axis\n",
    "plt.xlabel('x - axis')\n",
    "# naming the y-axis\n",
    "plt.ylabel('y - axis')\n",
    "# plot title\n",
    "plt.title('Linear Convolution')\n",
    "  \n",
    "# function to show the plot\n",
    "plt.show()"
   ]
  },
  {
   "cell_type": "code",
   "execution_count": 7,
   "id": "8ec92ad6",
   "metadata": {},
   "outputs": [],
   "source": [
    "#Question 4\n",
    "#x(n) = [1,3,2,1,2,2,1,1,3,2], h(n) = [1,0,8,0,4,0,0,1]"
   ]
  },
  {
   "cell_type": "code",
   "execution_count": 4,
   "id": "03596f03",
   "metadata": {},
   "outputs": [
    {
     "name": "stdout",
     "output_type": "stream",
     "text": [
      "Array1:->\n",
      " [1 3 2 1 2 2 1 1 3 2]\n",
      "\n",
      "Array2:->\n",
      " [1 0 8 0 4 0 0 1]\n",
      "\n",
      "Result:->\n",
      " [ 1  3 10 25 22 22 25 22 22 20 29 22 14  9  1  3  2]\n"
     ]
    },
    {
     "data": {
      "image/png": "[encoded data removed]",
      "text/plain": [
       "<Figure size 432x288 with 1 Axes>"
      ]
     },
     "metadata": {
      "needs_background": "light"
     },
     "output_type": "display_data"
    }
   ],
   "source": [
    "import numpy as np\n",
    "  \n",
    "# Creating two numpy One-Dimensional\n",
    "# array using the array() method\n",
    "arr1 = np.array([1,3,2,1,2,2,1,1,3,2])\n",
    "arr2 = np.array([1,0,8,0,4,0,0,1])\n",
    "  \n",
    "# Display the arrays\n",
    "print(\"Array1:->\\n\", arr1)\n",
    "print(\"\\nArray2:->\\n\", arr2)\n",
    "\n",
    "  \n",
    "# To return the discrete linear convolution\n",
    "# of two one-dimensional sequences,\n",
    "# we use the numpy.convolve() method in Python Numpy\n",
    "print(\"\\nResult:->\\n\", np.convolve(arr1, arr2))\n",
    "\n",
    "arr_final = np.convolve(arr1,arr2)\n",
    "\n",
    "size = [1, 2, 3, 4, 5, 6, 7, 8,9,10,11,12,13,14,15,16,17]\n",
    "  \n",
    "\n",
    "  \n",
    "\n",
    "  \n",
    "# plotting a bar chart\n",
    "plt.bar(size, arr_final ,width = 0.1)\n",
    "  \n",
    "# naming the x-axis\n",
    "plt.xlabel('x - axis')\n",
    "# naming the y-axis\n",
    "plt.ylabel('y - axis')\n",
    "# plot title\n",
    "plt.title('Linear Convolution')\n",
    "  \n",
    "# function to show the plot\n",
    "plt.show()"
   ]
  },
  {
   "cell_type": "code",
   "execution_count": 9,
   "id": "41756df0",
   "metadata": {},
   "outputs": [],
   "source": [
    "#Question 5\n",
    "#x(n) = [3,2,1,0,0,0], h(n) = [1,1,1]"
   ]
  },
  {
   "cell_type": "code",
   "execution_count": 5,
   "id": "5dc056b7",
   "metadata": {},
   "outputs": [
    {
     "name": "stdout",
     "output_type": "stream",
     "text": [
      "Array1:->\n",
      " [3 2 1 0 0 0]\n",
      "\n",
      "Array2:->\n",
      " [1 1 1]\n",
      "\n",
      "Result:->\n",
      " [3 5 6 3 1 0 0 0]\n"
     ]
    },
    {
     "data": {
      "image/png": "[encoded data removed]",
      "text/plain": [
       "<Figure size 432x288 with 1 Axes>"
      ]
     },
     "metadata": {
      "needs_background": "light"
     },
     "output_type": "display_data"
    }
   ],
   "source": [
    "import numpy as np\n",
    "  \n",
    "# Creating two numpy One-Dimensional\n",
    "# array using the array() method\n",
    "arr1 = np.array([3,2,1,0,0,0])\n",
    "arr2 = np.array([1,1,1])\n",
    "  \n",
    "# Display the arrays\n",
    "print(\"Array1:->\\n\", arr1)\n",
    "print(\"\\nArray2:->\\n\", arr2)\n",
    "\n",
    "  \n",
    "# To return the discrete linear convolution\n",
    "# of two one-dimensional sequences,\n",
    "# we use the numpy.convolve() method in Python Numpy\n",
    "print(\"\\nResult:->\\n\", np.convolve(arr1, arr2))\n",
    "\n",
    "arr_final = np.convolve(arr1,arr2)\n",
    "\n",
    "size = [1, 2, 3, 4, 5, 6, 7, 8]\n",
    "  \n",
    "\n",
    "# plotting a bar chart\n",
    "plt.bar(size, arr_final ,width = 0.1)\n",
    "  \n",
    "# naming the x-axis\n",
    "plt.xlabel('x - axis')\n",
    "# naming the y-axis\n",
    "plt.ylabel('y - axis')\n",
    "# plot title\n",
    "plt.title('Linear Convolution')\n",
    "  \n",
    "# function to show the plot\n",
    "plt.show()"
   ]
  },
  {
   "cell_type": "code",
   "execution_count": null,
   "id": "70ffe575",
   "metadata": {},
   "outputs": [],
   "source": []
  }
 ],
 "metadata": {
  "kernelspec": {
   "display_name": "Python 3 (ipykernel)",
   "language": "python",
   "name": "python3"
  },
  "language_info": {
   "codemirror_mode": {
    "name": "ipython",
    "version": 3
   },
   "file_extension": ".py",
   "mimetype": "text/x-python",
   "name": "python",
   "nbconvert_exporter": "python",
   "pygments_lexer": "ipython3",
   "version": "3.9.12"
  }
 },
 "nbformat": 4,
 "nbformat_minor": 5
}
