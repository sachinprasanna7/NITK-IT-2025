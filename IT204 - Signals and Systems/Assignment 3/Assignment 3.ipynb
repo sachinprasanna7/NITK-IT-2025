{
 "cells": [
  {
   "cell_type": "code",
   "execution_count": null,
   "id": "fd9754b2",
   "metadata": {},
   "outputs": [],
   "source": [
    "#Question 1\n",
    "\n",
    "# x(t) = A , -t1/2 < t < t1/2 and zero elsewhere"
   ]
  },
  {
   "cell_type": "code",
   "execution_count": 1,
   "id": "9f427fe5",
   "metadata": {},
   "outputs": [],
   "source": [
    "from sympy import *\n",
    "import sympy as sp\n",
    "import numpy as np\n",
    "from numpy import *\n",
    "A,t,t1,T,n,N = symbols('A,t,t1,T,n,N')\n",
    "init_printing(pretty_print = True)"
   ]
  },
  {
   "cell_type": "code",
   "execution_count": 2,
   "id": "45e27cad",
   "metadata": {},
   "outputs": [
    {
     "data": {
      "image/png": "[encoded data removed]",
      "text/latex": [
       "$\\displaystyle \\int\\limits_{- \\frac{t_{1}}{2}}^{\\frac{t_{1}}{2}} A^{2}\\, dt$"
      ],
      "text/plain": [
       " t₁       \n",
       " ──       \n",
       " 2        \n",
       " ⌠        \n",
       " ⎮    2   \n",
       " ⎮   A  dt\n",
       " ⌡        \n",
       "-t₁       \n",
       "────      \n",
       " 2        "
      ]
     },
     "execution_count": 2,
     "metadata": {},
     "output_type": "execute_result"
    }
   ],
   "source": [
    "Integral (A**2,(t,-t1/2,t1/2))"
   ]
  },
  {
   "cell_type": "code",
   "execution_count": 3,
   "id": "0476fcb4",
   "metadata": {},
   "outputs": [
    {
     "data": {
      "text/plain": [
       "'Energy of the signal E1 ='"
      ]
     },
     "metadata": {},
     "output_type": "display_data"
    },
    {
     "data": {
      "image/png": "[encoded data removed]",
      "text/latex": [
       "$\\displaystyle A^{2} t_{1}$"
      ],
      "text/plain": [
       " 2   \n",
       "A ⋅t₁"
      ]
     },
     "metadata": {},
     "output_type": "display_data"
    }
   ],
   "source": [
    "Energy = integrate(A**2,(t,-t1/2,t1/2))\n",
    "display('Energy of the signal E1 =', Energy)\n",
    "E1 = Energy"
   ]
  },
  {
   "cell_type": "code",
   "execution_count": 4,
   "id": "86919600",
   "metadata": {},
   "outputs": [
    {
     "data": {
      "text/plain": [
       "'Power of the signal P1='"
      ]
     },
     "metadata": {},
     "output_type": "display_data"
    },
    {
     "data": {
      "image/png": "[encoded data removed]",
      "text/latex": [
       "$\\displaystyle 0$"
      ],
      "text/plain": [
       "0"
      ]
     },
     "metadata": {},
     "output_type": "display_data"
    }
   ],
   "source": [
    "Power = limit((Integral(A**2,(t,-t1/2,t1/2))/T),T,oo)\n",
    "display('Power of the signal P1=',Power)\n",
    "P1 = Power"
   ]
  },
  {
   "cell_type": "code",
   "execution_count": 6,
   "id": "8f2dbb78",
   "metadata": {},
   "outputs": [
    {
     "data": {
      "text/plain": [
       "'x(t) is Energy Signal'"
      ]
     },
     "metadata": {},
     "output_type": "display_data"
    }
   ],
   "source": [
    "if E1 == oo and P1 != 0 and P1 != oo:\n",
    "    display('x(t) is Power Signal')\n",
    "if P1 == 0 and E1 != 0 and E1 != oo:\n",
    "    display('x(t) is Energy Signal')\n",
    "if E1 == oo and P1 != oo and P1 != 0:\n",
    "    display('x(t) is Neither Energy Nor Power Signal')\n",
    "if E1 == oo and P1 == oo:\n",
    "    display('x(t) is Neither Energy Nor Power Signal')\n",
    "if E1 == 0 and P1 == 0:\n",
    "    display('x(t) is Neither Energy Nor Power Signal')"
   ]
  },
  {
   "cell_type": "code",
   "execution_count": 7,
   "id": "676b1b1f",
   "metadata": {},
   "outputs": [],
   "source": [
    "#Question 2\n",
    "\n",
    "# x(t) = cos(t)"
   ]
  },
  {
   "cell_type": "code",
   "execution_count": 8,
   "id": "ed91a37c",
   "metadata": {},
   "outputs": [
    {
     "data": {
      "image/png": "[encoded data removed]",
      "text/latex": [
       "$\\displaystyle \\int\\limits_{-\\infty}^{\\infty} \\cos^{2}{\\left(t \\right)}\\, dt$"
      ],
      "text/plain": [
       "∞            \n",
       "⌠            \n",
       "⎮     2      \n",
       "⎮  cos (t) dt\n",
       "⌡            \n",
       "-∞           "
      ]
     },
     "execution_count": 8,
     "metadata": {},
     "output_type": "execute_result"
    }
   ],
   "source": [
    "Integral((sp.cos(t)**2),(t,-oo,oo))"
   ]
  },
  {
   "cell_type": "code",
   "execution_count": 9,
   "id": "9705f7b9",
   "metadata": {},
   "outputs": [
    {
     "data": {
      "text/plain": [
       "'Energy of the signal E2='"
      ]
     },
     "metadata": {},
     "output_type": "display_data"
    },
    {
     "data": {
      "image/png": "[encoded data removed]",
      "text/latex": [
       "$\\displaystyle \\infty$"
      ],
      "text/plain": [
       "∞"
      ]
     },
     "metadata": {},
     "output_type": "display_data"
    }
   ],
   "source": [
    "Energy = integrate((sp.cos(t)**2),(t,-oo,oo))\n",
    "display('Energy of the signal E2=', Energy)\n",
    "E2 = Energy"
   ]
  },
  {
   "cell_type": "code",
   "execution_count": 10,
   "id": "e61ff2e3",
   "metadata": {},
   "outputs": [
    {
     "data": {
      "text/plain": [
       "'Power of the signal P2='"
      ]
     },
     "metadata": {},
     "output_type": "display_data"
    },
    {
     "data": {
      "image/png": "[encoded data removed]",
      "text/latex": [
       "$\\displaystyle \\frac{1}{2}$"
      ],
      "text/plain": [
       "1/2"
      ]
     },
     "metadata": {},
     "output_type": "display_data"
    }
   ],
   "source": [
    "Power = limit(integrate((sp.cos(t)**2)/T,(t,-T/2,T/2)),T,oo)\n",
    "display('Power of the signal P2=',Power)\n",
    "P2 = Power"
   ]
  },
  {
   "cell_type": "code",
   "execution_count": 12,
   "id": "553263ff",
   "metadata": {},
   "outputs": [
    {
     "data": {
      "text/plain": [
       "'x(t) is Power Signal'"
      ]
     },
     "metadata": {},
     "output_type": "display_data"
    }
   ],
   "source": [
    "if E2 == oo and P2 != 0 and P2 != oo:\n",
    "    display('x(t) is Power Signal')\n",
    "if P2 == 0 and E2 != 0 and E2 != oo:\n",
    "    display('x(t) is Energy Signal')\n",
    "if E2 == oo and P2 != oo and P2 == 0:\n",
    "    display('x(t) is Neither Energy Nor Power Signal')\n",
    "if E2 == oo and P2 == oo:\n",
    "    display('x(t) is Neither Energy Nor Power Signal')\n",
    "if E2 == 0 and P2 == 0:\n",
    "    display('x(t) is Neither Energy Nor Power Signal')"
   ]
  },
  {
   "cell_type": "code",
   "execution_count": 13,
   "id": "715fa0f7",
   "metadata": {},
   "outputs": [],
   "source": [
    "# Question 3\n",
    "\n",
    "# x(n) = (1/4)^n*U(n)"
   ]
  },
  {
   "cell_type": "code",
   "execution_count": 14,
   "id": "1d931d33",
   "metadata": {},
   "outputs": [],
   "source": [
    "Energy = Sum(((1/4)**n)**2,(n,0,oo))\n",
    "E3 = Energy.evalf()"
   ]
  },
  {
   "cell_type": "code",
   "execution_count": 15,
   "id": "b20342ec",
   "metadata": {},
   "outputs": [
    {
     "data": {
      "text/plain": [
       "'Energy E3='"
      ]
     },
     "metadata": {},
     "output_type": "display_data"
    },
    {
     "data": {
      "image/png": "[encoded data removed]",
      "text/latex": [
       "$\\displaystyle 1.0$"
      ],
      "text/plain": [
       "1.00000000000000"
      ]
     },
     "metadata": {},
     "output_type": "display_data"
    }
   ],
   "source": [
    "display('Energy E3=', E3)"
   ]
  },
  {
   "cell_type": "code",
   "execution_count": 16,
   "id": "7e31dc0c",
   "metadata": {},
   "outputs": [
    {
     "data": {
      "text/plain": [
       "'Power P3='"
      ]
     },
     "metadata": {},
     "output_type": "display_data"
    },
    {
     "data": {
      "image/png": "[encoded data removed]",
      "text/latex": [
       "$\\displaystyle 0$"
      ],
      "text/plain": [
       "0"
      ]
     },
     "metadata": {},
     "output_type": "display_data"
    }
   ],
   "source": [
    "Power = Sum(((1/4)**n)**2,(n,0,N))/(2*N)\n",
    "y = Power.doit()\n",
    "Power1 = limit(y,N,oo)\n",
    "P3 = Power1\n",
    "display('Power P3=', P3)"
   ]
  },
  {
   "cell_type": "code",
   "execution_count": 18,
   "id": "67fb6367",
   "metadata": {},
   "outputs": [
    {
     "data": {
      "text/plain": [
       "'x(t) is Energy Signal'"
      ]
     },
     "metadata": {},
     "output_type": "display_data"
    }
   ],
   "source": [
    "if E3 == oo and P3 != 0 and P3 != oo:\n",
    "    display('x(t) is Power Signal')\n",
    "if P3 == 0 and E3 != 0 and E3 != oo:\n",
    "    display('x(t) is Energy Signal')\n",
    "if E3 == oo and P3 != oo and P3 == 0:\n",
    "    display('x(t) is Neither Energy Nor Power Signal')\n",
    "if E3 == oo and P3 == oo:\n",
    "    display('x(t) is Neither Energy NP Signal')\n",
    "if E3 == 0 and P3 == 0:\n",
    "    display('x(t) is NENP Signal')"
   ]
  },
  {
   "cell_type": "code",
   "execution_count": 19,
   "id": "cc316f26",
   "metadata": {},
   "outputs": [],
   "source": [
    "# Question 4\n",
    "\n",
    "# x(t) = t^(-0.5) U((t-2))"
   ]
  },
  {
   "cell_type": "code",
   "execution_count": 20,
   "id": "ed5569d5",
   "metadata": {},
   "outputs": [
    {
     "data": {
      "image/png": "[encoded data removed]",
      "text/latex": [
       "$\\displaystyle \\int\\limits_{2}^{\\infty} t^{-1.0}\\, dt$"
      ],
      "text/plain": [
       "∞         \n",
       "⌠         \n",
       "⎮  -1.0   \n",
       "⎮ t     dt\n",
       "⌡         \n",
       "2         "
      ]
     },
     "execution_count": 20,
     "metadata": {},
     "output_type": "execute_result"
    }
   ],
   "source": [
    "x = Integral(((t)**(-1/2))**2,(t,2,oo))\n",
    "Energy = x\n",
    "Energy"
   ]
  },
  {
   "cell_type": "code",
   "execution_count": 21,
   "id": "9e12a3f6",
   "metadata": {},
   "outputs": [
    {
     "data": {
      "text/plain": [
       "'Energy E4='"
      ]
     },
     "metadata": {},
     "output_type": "display_data"
    },
    {
     "data": {
      "image/png": "[encoded data removed]",
      "text/latex": [
       "$\\displaystyle \\infty$"
      ],
      "text/plain": [
       "∞"
      ]
     },
     "metadata": {},
     "output_type": "display_data"
    }
   ],
   "source": [
    "y = integrate(((t)**(-1/2))**2,(t,2,oo))\n",
    "E4 = y\n",
    "display('Energy E4=', y)"
   ]
  },
  {
   "cell_type": "code",
   "execution_count": 22,
   "id": "985013e0",
   "metadata": {},
   "outputs": [
    {
     "data": {
      "image/png": "[encoded data removed]",
      "text/latex": [
       "$\\displaystyle \\frac{\\int\\limits_{2}^{\\frac{T}{2}} t^{-1.0}\\, dt}{T}$"
      ],
      "text/plain": [
       "T         \n",
       "─         \n",
       "2         \n",
       "⌠         \n",
       "⎮  -1.0   \n",
       "⎮ t     dt\n",
       "⌡         \n",
       "2         \n",
       "──────────\n",
       "    T     "
      ]
     },
     "execution_count": 22,
     "metadata": {},
     "output_type": "execute_result"
    }
   ],
   "source": [
    "x1 = (1/T)*Integral(((t)**(-1/2))**2,(t,2,T/2))\n",
    "x1"
   ]
  },
  {
   "cell_type": "code",
   "execution_count": 23,
   "id": "55381939",
   "metadata": {},
   "outputs": [
    {
     "data": {
      "text/plain": [
       "'Power P4='"
      ]
     },
     "metadata": {},
     "output_type": "display_data"
    },
    {
     "data": {
      "image/png": "[encoded data removed]",
      "text/latex": [
       "$\\displaystyle 0$"
      ],
      "text/plain": [
       "0"
      ]
     },
     "metadata": {},
     "output_type": "display_data"
    }
   ],
   "source": [
    "y1 = limit((1/T)*integrate(((t)**(-1/2))**2,(t,2,T/2)),T,oo)\n",
    "display('Power P4=', y1)\n",
    "P4 = y1"
   ]
  },
  {
   "cell_type": "code",
   "execution_count": 24,
   "id": "8c4b14a9",
   "metadata": {},
   "outputs": [
    {
     "data": {
      "text/plain": [
       "'x(t) is Neither Energy Nor Power Signal'"
      ]
     },
     "metadata": {},
     "output_type": "display_data"
    }
   ],
   "source": [
    "if E4 == oo and P4 != 0 and P4 != oo:\n",
    "    display('x(t) is Power Signal')\n",
    "if P4 == 0 and E4 != 0 and E4 != oo:\n",
    "    display('x(t) is Energy Signal')\n",
    "if E4 == oo and P4 != oo and P4 == 0:\n",
    "    display('x(t) is Neither Energy Nor Power Signal')\n",
    "if E4 == oo and P4 == oo:\n",
    "    display('x(t) is Neither Energy NP Signal')\n",
    "if E4 == 0 and P4 == 0:\n",
    "    display('x(t) is NENP Signal')"
   ]
  },
  {
   "cell_type": "code",
   "execution_count": 26,
   "id": "ef05b213",
   "metadata": {},
   "outputs": [],
   "source": [
    "# Question 5\n",
    "\n",
    "# Calculate the energy and power of the following problem.\n",
    "# Classify the problem into one of the five categories mentioned"
   ]
  },
  {
   "cell_type": "code",
   "execution_count": 30,
   "id": "9a127691",
   "metadata": {},
   "outputs": [
    {
     "data": {
      "image/png": "[encoded data removed]",
      "text/latex": [
       "$\\displaystyle \\int\\limits_{0}^{2} 16\\, dt + \\int\\limits_{2}^{4} 16\\, dt + \\int\\limits_{4}^{6} 16\\, dt$"
      ],
      "text/plain": [
       "2         4         6      \n",
       "⌠         ⌠         ⌠      \n",
       "⎮ 16 dt + ⎮ 16 dt + ⎮ 16 dt\n",
       "⌡         ⌡         ⌡      \n",
       "0         2         4      "
      ]
     },
     "execution_count": 30,
     "metadata": {},
     "output_type": "execute_result"
    }
   ],
   "source": [
    "x1 = Integral((-4)**2,(t,0,2))\n",
    "x2 = Integral((4)**2,(t,2,4))\n",
    "x3 = Integral((4)**2,(t,4,6))\n",
    "Energy = x1+x2+x3\n",
    "Energy"
   ]
  },
  {
   "cell_type": "code",
   "execution_count": 31,
   "id": "aee4802e",
   "metadata": {},
   "outputs": [
    {
     "data": {
      "text/plain": [
       "'Energy E5='"
      ]
     },
     "metadata": {},
     "output_type": "display_data"
    },
    {
     "data": {
      "image/png": "[encoded data removed]",
      "text/latex": [
       "$\\displaystyle 96$"
      ],
      "text/plain": [
       "96"
      ]
     },
     "metadata": {},
     "output_type": "display_data"
    }
   ],
   "source": [
    "y = integrate((-4)**2,(t,0,2)) + integrate((4)**2,(t,2,4)) + integrate((-4)**2,(t,4,6))\n",
    "E5 = y\n",
    "display('Energy E5=',y)"
   ]
  },
  {
   "cell_type": "code",
   "execution_count": 34,
   "id": "34c4ed49",
   "metadata": {},
   "outputs": [
    {
     "data": {
      "text/plain": [
       "'Power P5='"
      ]
     },
     "metadata": {},
     "output_type": "display_data"
    },
    {
     "data": {
      "image/png": "[encoded data removed]",
      "text/latex": [
       "$\\displaystyle 0$"
      ],
      "text/plain": [
       "0"
      ]
     },
     "metadata": {},
     "output_type": "display_data"
    }
   ],
   "source": [
    "y2 = limit((1/T)*integrate((-4)**2,(t,0,2)),T,oo) + limit((1/T)*integrate((4)**2,(t,2,4)),T,oo) + \n",
    "     limit((1/T)*integrate((-4)**2,(t,4,6)),T,oo)\n",
    "display('Power P5=', y2)\n",
    "P5 = y2"
   ]
  },
  {
   "cell_type": "code",
   "execution_count": 35,
   "id": "3b9aa694",
   "metadata": {},
   "outputs": [
    {
     "data": {
      "text/plain": [
       "'x(t) is Energy Signal'"
      ]
     },
     "metadata": {},
     "output_type": "display_data"
    }
   ],
   "source": [
    "if E5 == oo and P5 != 0 and P5 != oo:\n",
    "    display('x(t) is Power Signal')\n",
    "if P5 == 0 and E5 != 0 and E5 != oo:\n",
    "    display('x(t) is Energy Signal')\n",
    "if E5 == oo and P5 != oo and P5 == 0:\n",
    "    display('x(t) is Neither Energy Nor Power Signal')\n",
    "if E5 == oo and P5 == oo:\n",
    "    display('x(t) is Neither Energy NP Signal')\n",
    "if E5 == 0 and P5 == 0:\n",
    "    display('x(t) is NENP Signal')"
   ]
  }
 ],
 "metadata": {
  "kernelspec": {
   "display_name": "Python 3 (ipykernel)",
   "language": "python",
   "name": "python3"
  },
  "language_info": {
   "codemirror_mode": {
    "name": "ipython",
    "version": 3
   },
   "file_extension": ".py",
   "mimetype": "text/x-python",
   "name": "python",
   "nbconvert_exporter": "python",
   "pygments_lexer": "ipython3",
   "version": "3.9.12"
  }
 },
 "nbformat": 4,
 "nbformat_minor": 5
}
