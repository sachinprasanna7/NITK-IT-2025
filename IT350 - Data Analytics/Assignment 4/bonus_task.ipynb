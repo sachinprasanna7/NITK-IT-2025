{
 "cells": [
  {
   "cell_type": "markdown",
   "metadata": {},
   "source": [
    "# Importing Libraries"
   ]
  },
  {
   "cell_type": "code",
   "execution_count": 1,
   "metadata": {},
   "outputs": [],
   "source": [
    "from pytube import YouTube\n",
    "import re\n",
    "import numpy as np\n",
    "import cv2"
   ]
  },
  {
   "cell_type": "markdown",
   "metadata": {},
   "source": [
    "# Downloading YouTube Video"
   ]
  },
  {
   "cell_type": "code",
   "execution_count": 2,
   "metadata": {},
   "outputs": [],
   "source": [
    "def Download(link):\n",
    "    video_id_match = re.search(r\"(?:v=|\\/)([0-9A-Za-z_-]{11})\", link)\n",
    "    if video_id_match:\n",
    "        video_id = video_id_match.group(1)\n",
    "        youtubeObject = YouTube(\"https://www.youtube.com/watch?v=\" + video_id)\n",
    "        youtubeObject = youtubeObject.streams.get_highest_resolution()\n",
    "        try:\n",
    "            saved_file = youtubeObject.download()\n",
    "            print(\"Download is completed successfully\")\n",
    "            return saved_file\n",
    "        except Exception as e:\n",
    "            print(\"An error has occurred:\", e)\n",
    "            return None\n",
    "    else:\n",
    "        print(\"Invalid YouTube URL\")\n",
    "        return None"
   ]
  },
  {
   "cell_type": "markdown",
   "metadata": {},
   "source": [
    "# Mirroring YouTube Video"
   ]
  },
  {
   "cell_type": "code",
   "execution_count": 3,
   "metadata": {},
   "outputs": [],
   "source": [
    "def Mirror(input_video):\n",
    "    video = cv2.VideoCapture(input_video)\n",
    "    width = int(video.get(3))  \n",
    "    height = int(video.get(4)) \n",
    "    fps = video.get(cv2.CAP_PROP_FPS)   # get the fps of the video\n",
    "    fourcc = cv2.VideoWriter_fourcc(*'mp4v')    # 4 character code for video writing\n",
    "    out = cv2.VideoWriter('mirrored_video.mp4', fourcc, fps, (width, height))   \n",
    "\n",
    "    while True:   # read frames from video\n",
    "        ret, frame = video.read()\n",
    "        if not ret:\n",
    "            break\n",
    "        frame = cv2.flip(frame, 1)\n",
    "        out.write(frame)\n",
    "\n",
    "    video.release()\n",
    "    out.release()\n",
    "    cv2.destroyAllWindows()\n",
    "    print(\"Mirror video is saved successfully\")"
   ]
  },
  {
   "cell_type": "markdown",
   "metadata": {},
   "source": [
    "# Usage"
   ]
  },
  {
   "cell_type": "code",
   "execution_count": null,
   "metadata": {},
   "outputs": [],
   "source": [
    "input_link = input(\"Enter the YouTube video link: \")\n",
    "video_file = Download(input_link)\n",
    "\n",
    "Mirror(video_file)"
   ]
  }
 ],
 "metadata": {
  "kernelspec": {
   "display_name": "Python 3",
   "language": "python",
   "name": "python3"
  },
  "language_info": {
   "codemirror_mode": {
    "name": "ipython",
    "version": 3
   },
   "file_extension": ".py",
   "mimetype": "text/x-python",
   "name": "python",
   "nbconvert_exporter": "python",
   "pygments_lexer": "ipython3",
   "version": "3.10.4"
  }
 },
 "nbformat": 4,
 "nbformat_minor": 2
}
